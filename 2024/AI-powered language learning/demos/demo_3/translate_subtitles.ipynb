{
 "cells": [
  {
   "cell_type": "markdown",
   "id": "261bb514-1624-45dd-a22d-83b45450734f",
   "metadata": {},
   "source": [
    "# Description\n",
    "\n",
    "This notebook translates a given subtitle file"
   ]
  },
  {
   "cell_type": "markdown",
   "id": "b0ae4e40-0944-4a72-875d-f9ed6b2a94bf",
   "metadata": {},
   "source": [
    "# Usage\n",
    "\n",
    "1. Modify cell `Config` as needed\n",
    "2. Add a `.env` file containing your open API key or provide it as an environment variable\n",
    "3. Run the notebook"
   ]
  },
  {
   "cell_type": "code",
   "execution_count": 1,
   "id": "8eaedfb2-152e-4ff4-988d-440427d1ff5c",
   "metadata": {},
   "outputs": [],
   "source": [
    "import os\n",
    "import pandas as pd\n",
    "import pysrt\n",
    "import warnings\n",
    "from langchain_core.exceptions import OutputParserException\n",
    "from langchain_openai import ChatOpenAI\n",
    "from langchain.output_parsers import PydanticOutputParser\n",
    "from langchain.prompts.chat import ChatPromptTemplate, HumanMessagePromptTemplate\n",
    "from loguru import logger\n",
    "from dotenv import load_dotenv\n",
    "from more_itertools import batched\n",
    "from pathlib import Path\n",
    "from pydantic import BaseModel, Field, RootModel, StrictInt, StrictStr\n",
    "from typing import Any, TypeAlias\n",
    "\n",
    "load_dotenv()\n",
    "ListOfStrDict: TypeAlias = list[dict[str, Any]]"
   ]
  },
  {
   "cell_type": "code",
   "execution_count": 2,
   "id": "f7d43c9f-fde3-4669-9a92-fdf5ab5774f4",
   "metadata": {},
   "outputs": [],
   "source": [
    "from langchain_core._api.deprecation import LangChainDeprecationWarning\n",
    "warnings.filterwarnings(\"ignore\", category=LangChainDeprecationWarning)"
   ]
  },
  {
   "cell_type": "markdown",
   "id": "a3f662aa-5aad-4232-8cb0-8f30ecec1a1e",
   "metadata": {},
   "source": [
    "# Config"
   ]
  },
  {
   "cell_type": "code",
   "execution_count": 3,
   "id": "e1c569e9-b19c-4d7f-a034-e47c56351ddb",
   "metadata": {},
   "outputs": [],
   "source": [
    "SUBTITLE_FILEPATH = 'example.srt'\n",
    "# Bigger batches will improve speed and perhaps quality: since we start with a new\n",
    "# context each time, the few surrounding texts we have may give hints to ChatGPT\n",
    "# when the original text is ambiguous\n",
    "# I guess this could be improved (by keeping all batches within the same context)\n",
    "# But bigger batches may result in more errors (e.g. due to ChatGPT \"freezing\")\n",
    "BATCH_SIZE = 20\n",
    "SOURCE_LANGUAGE = 'Italian'\n",
    "OPENAI_MODEL = \"gpt-4o\"\n",
    "OPENAI_API_KEY = os.environ[\"OPENAI_API_KEY\"]"
   ]
  },
  {
   "cell_type": "markdown",
   "id": "3d60b499-fd24-41c2-bf03-3764924caa6f",
   "metadata": {},
   "source": [
    "# Helpers"
   ]
  },
  {
   "cell_type": "markdown",
   "id": "e3ecd306-666b-4b62-a027-6ca9504d0630",
   "metadata": {},
   "source": [
    "## Custom data structures for interacting with ChatGPT"
   ]
  },
  {
   "cell_type": "code",
   "execution_count": 4,
   "id": "9f552bd3-cc95-46b4-9e55-632b5b3d3988",
   "metadata": {},
   "outputs": [],
   "source": [
    "class InputSegment(BaseModel):\n",
    "    id: StrictInt = Field(description='Segment id')\n",
    "    text: StrictStr = Field(description='Segment text (original)')\n",
    "\n",
    "\n",
    "class InputSegments(RootModel):\n",
    "    root: list[InputSegment] = Field(description='A list of input segments')\n",
    "\n",
    "\n",
    "class OutputSegment(BaseModel):\n",
    "    id: StrictInt = Field(description='Segment id')\n",
    "    text: StrictStr = Field(description='Segment text (translated)')\n",
    "\n",
    "\n",
    "class OutputSegments(RootModel):\n",
    "    root: list[OutputSegment] = Field(description='A list of translated segments')"
   ]
  },
  {
   "cell_type": "markdown",
   "id": "9fedc48d-e48f-434c-8c29-7ccc481d2e46",
   "metadata": {},
   "source": [
    "## Function to translate segments"
   ]
  },
  {
   "cell_type": "code",
   "execution_count": 5,
   "id": "ecde1261-c534-4cf1-8b38-466dc00228c3",
   "metadata": {},
   "outputs": [],
   "source": [
    "def translate_segments(llm: ChatOpenAI, input_segments: InputSegments,\n",
    "                       source_language: str, retries: int = 6) -> OutputSegments:\n",
    "    message = HumanMessagePromptTemplate.from_template(template=PROMPT_INFO)\n",
    "    chat_prompt = ChatPromptTemplate.from_messages([message])\n",
    "    chat_prompt_with_values = chat_prompt.format_prompt(json_payload=input_segments.json(),\n",
    "                                                        source_language=source_language,\n",
    "                                                        format_instructions=PARSER_INSTRUCTIONS)\n",
    "    for i in range(retries + 1):\n",
    "        try:\n",
    "            output = llm(chat_prompt_with_values.to_messages())\n",
    "            return PARSER.parse(output.content)\n",
    "        except OutputParserException as e:\n",
    "            logger.opt(exception=True).warning(f'Bad output structure (maybe cutoff?) - Attempt {i + 1} / {retries}')\n",
    "\n",
    "    logger.warning(f'Segments translation failed after {retries} attempts')\n",
    "    return OutputSegments([])"
   ]
  },
  {
   "cell_type": "markdown",
   "id": "ee6c4f22-94e3-452b-acf5-5cd2edb6f226",
   "metadata": {},
   "source": [
    "# Create instructions for ChatGPT on how to format the response"
   ]
  },
  {
   "cell_type": "code",
   "execution_count": 6,
   "id": "cec20fc5-b0df-461b-a84f-e2327545ddd1",
   "metadata": {},
   "outputs": [
    {
     "name": "stdout",
     "output_type": "stream",
     "text": [
      "The output should be formatted as a JSON instance that conforms to the JSON schema below.\n",
      "\n",
      "As an example, for the schema {\"properties\": {\"foo\": {\"title\": \"Foo\", \"description\": \"a list of strings\", \"type\": \"array\", \"items\": {\"type\": \"string\"}}}, \"required\": [\"foo\"]}\n",
      "the object {\"foo\": [\"bar\", \"baz\"]} is a well-formatted instance of the schema. The object {\"properties\": {\"foo\": [\"bar\", \"baz\"]}} is not well-formatted.\n",
      "\n",
      "Here is the output schema:\n",
      "```\n",
      "{\"$defs\": {\"OutputSegment\": {\"properties\": {\"id\": {\"description\": \"Segment id\", \"title\": \"Id\", \"type\": \"integer\"}, \"text\": {\"description\": \"Segment text (translated)\", \"title\": \"Text\", \"type\": \"string\"}}, \"required\": [\"id\", \"text\"], \"title\": \"OutputSegment\", \"type\": \"object\"}}, \"description\": \"A list of translated segments\", \"items\": {\"$ref\": \"#/$defs/OutputSegment\"}}\n",
      "```\n"
     ]
    }
   ],
   "source": [
    "PARSER = PydanticOutputParser(pydantic_object=OutputSegments)\n",
    "PARSER_INSTRUCTIONS = PARSER.get_format_instructions()\n",
    "print(PARSER_INSTRUCTIONS)"
   ]
  },
  {
   "cell_type": "markdown",
   "id": "92944646-80e5-45dd-a18b-22d75fc8d186",
   "metadata": {},
   "source": [
    "# Create prompt template"
   ]
  },
  {
   "cell_type": "code",
   "execution_count": 7,
   "id": "fbb86256-304a-4020-8915-96d1b43aee18",
   "metadata": {},
   "outputs": [],
   "source": [
    "PROMPT_INFO = \"\"\"\n",
    "Please translate given text segments provided in JSON format from {source_language} into English:\n",
    "\n",
    "{json_payload}\n",
    "\"\"\""
   ]
  },
  {
   "cell_type": "markdown",
   "id": "f08e36b1-07b9-4726-8292-49d617ce950d",
   "metadata": {},
   "source": [
    "# Prepare LLM"
   ]
  },
  {
   "cell_type": "code",
   "execution_count": 8,
   "id": "2d05cda4-2238-4c80-9ddf-b907853abf16",
   "metadata": {},
   "outputs": [],
   "source": [
    "llm = ChatOpenAI(openai_api_key=OPENAI_API_KEY, model_name=OPENAI_MODEL)"
   ]
  },
  {
   "cell_type": "markdown",
   "id": "c3250378-09ab-4e8b-bca4-b7bed08f2605",
   "metadata": {},
   "source": [
    "# Retrieve and translate lines from the subtitle file"
   ]
  },
  {
   "cell_type": "code",
   "execution_count": 9,
   "id": "9527e6dc-f63e-4e71-b541-bb1d5e68d6fe",
   "metadata": {},
   "outputs": [
    {
     "name": "stdout",
     "output_type": "stream",
     "text": [
      "Translated segments: 7 / 7\r"
     ]
    }
   ],
   "source": [
    "subs = pysrt.open(SUBTITLE_FILEPATH)\n",
    "subs_batches = list(batched(subs, n=BATCH_SIZE))\n",
    "\n",
    "# empty subtitle file that will contain translated lines\n",
    "translated_srt_file = pysrt.SubRipFile()\n",
    "\n",
    "# variables used to show progression\n",
    "nb_translated = 0\n",
    "nb_segments = len(subs)\n",
    "\n",
    "for batch_ix, subs_batch in enumerate(subs_batches):\n",
    "\n",
    "    input_segment_list = [InputSegment(id=ix, text=s.text) for ix, s in enumerate(subs_batch)]\n",
    "    input_segments = InputSegments(input_segment_list)\n",
    "    output_segments = translate_segments(llm=llm, source_language=SOURCE_LANGUAGE,\n",
    "                                          input_segments=input_segments)\n",
    "\n",
    "    # retrieve information on each subtitle line to create a translated subtitle line\n",
    "    for output_segment in output_segments.root:\n",
    "        srt_line = subs_batch[output_segment.id]\n",
    "        translated_srt_line = pysrt.SubRipItem(index=srt_line.index,\n",
    "                                               start=srt_line.start,\n",
    "                                               end=srt_line.end,\n",
    "                                               text=output_segment.text)\n",
    "        translated_srt_file.append(translated_srt_line)\n",
    "\n",
    "    # show progression\n",
    "    nb_translated += len(input_segment_list)\n",
    "    print(f'Translated segments: {nb_translated} / {nb_segments}', end='\\r')"
   ]
  },
  {
   "cell_type": "markdown",
   "id": "e34d7a10-f932-4ff9-af7c-6f5c798a1130",
   "metadata": {},
   "source": [
    "# Check out the results"
   ]
  },
  {
   "cell_type": "code",
   "execution_count": 10,
   "id": "3314bbba-2bf6-4863-81f2-502c0e6af992",
   "metadata": {},
   "outputs": [
    {
     "data": {
      "text/html": [
       "<div>\n",
       "<style scoped>\n",
       "    .dataframe tbody tr th:only-of-type {\n",
       "        vertical-align: middle;\n",
       "    }\n",
       "\n",
       "    .dataframe tbody tr th {\n",
       "        vertical-align: top;\n",
       "    }\n",
       "\n",
       "    .dataframe thead th {\n",
       "        text-align: right;\n",
       "    }\n",
       "</style>\n",
       "<table border=\"1\" class=\"dataframe\">\n",
       "  <thead>\n",
       "    <tr style=\"text-align: right;\">\n",
       "      <th></th>\n",
       "      <th>text</th>\n",
       "      <th>translation</th>\n",
       "      <th>start</th>\n",
       "      <th>end</th>\n",
       "    </tr>\n",
       "    <tr>\n",
       "      <th>id</th>\n",
       "      <th></th>\n",
       "      <th></th>\n",
       "      <th></th>\n",
       "      <th></th>\n",
       "    </tr>\n",
       "  </thead>\n",
       "  <tbody>\n",
       "    <tr>\n",
       "      <th>1</th>\n",
       "      <td>Oh no, la ciclope è in piena caccia!</td>\n",
       "      <td>Oh no, the cyclops is in full hunt!</td>\n",
       "      <td>00:00:00,000</td>\n",
       "      <td>00:00:02,860</td>\n",
       "    </tr>\n",
       "    <tr>\n",
       "      <th>2</th>\n",
       "      <td>Attento, non guardare!</td>\n",
       "      <td>Careful, don't look!</td>\n",
       "      <td>00:00:03,600</td>\n",
       "      <td>00:00:04,940</td>\n",
       "    </tr>\n",
       "    <tr>\n",
       "      <th>3</th>\n",
       "      <td>Non sto mica guardando!</td>\n",
       "      <td>I'm not looking!</td>\n",
       "      <td>00:00:05,040</td>\n",
       "      <td>00:00:05,960</td>\n",
       "    </tr>\n",
       "    <tr>\n",
       "      <th>4</th>\n",
       "      <td>Qui, agente Sora Lela. Chiedo immediati rinforzi.</td>\n",
       "      <td>Here, Agent Sora Lela. Requesting immediate reinforcements.</td>\n",
       "      <td>00:00:09,380</td>\n",
       "      <td>00:00:15,860</td>\n",
       "    </tr>\n",
       "    <tr>\n",
       "      <th>5</th>\n",
       "      <td>Saremo lì tra cinque minuti.</td>\n",
       "      <td>We will be there in five minutes.</td>\n",
       "      <td>00:00:16,120</td>\n",
       "      <td>00:00:17,940</td>\n",
       "    </tr>\n",
       "    <tr>\n",
       "      <th>6</th>\n",
       "      <td>Ehi, nascondiamoci nel museo! So che il martedì si entra gratis.</td>\n",
       "      <td>Hey, let's hide in the museum! I know it's free on Tuesdays.</td>\n",
       "      <td>00:00:20,540</td>\n",
       "      <td>00:00:24,120</td>\n",
       "    </tr>\n",
       "    <tr>\n",
       "      <th>7</th>\n",
       "      <td>Il martedì si entra gratis.</td>\n",
       "      <td>It's free on Tuesdays.</td>\n",
       "      <td>00:00:30,000</td>\n",
       "      <td>00:00:30,240</td>\n",
       "    </tr>\n",
       "  </tbody>\n",
       "</table>\n",
       "</div>"
      ],
      "text/plain": [
       "                                                                text  \\\n",
       "id                                                                     \n",
       "1                               Oh no, la ciclope è in piena caccia!   \n",
       "2                                             Attento, non guardare!   \n",
       "3                                            Non sto mica guardando!   \n",
       "4                  Qui, agente Sora Lela. Chiedo immediati rinforzi.   \n",
       "5                                       Saremo lì tra cinque minuti.   \n",
       "6   Ehi, nascondiamoci nel museo! So che il martedì si entra gratis.   \n",
       "7                                        Il martedì si entra gratis.   \n",
       "\n",
       "                                                     translation  \\\n",
       "id                                                                 \n",
       "1                            Oh no, the cyclops is in full hunt!   \n",
       "2                                           Careful, don't look!   \n",
       "3                                               I'm not looking!   \n",
       "4    Here, Agent Sora Lela. Requesting immediate reinforcements.   \n",
       "5                              We will be there in five minutes.   \n",
       "6   Hey, let's hide in the museum! I know it's free on Tuesdays.   \n",
       "7                                         It's free on Tuesdays.   \n",
       "\n",
       "           start           end  \n",
       "id                              \n",
       "1   00:00:00,000  00:00:02,860  \n",
       "2   00:00:03,600  00:00:04,940  \n",
       "3   00:00:05,040  00:00:05,960  \n",
       "4   00:00:09,380  00:00:15,860  \n",
       "5   00:00:16,120  00:00:17,940  \n",
       "6   00:00:20,540  00:00:24,120  \n",
       "7   00:00:30,000  00:00:30,240  "
      ]
     },
     "metadata": {},
     "output_type": "display_data"
    }
   ],
   "source": [
    "initial_data = [{'id': sub.index, 'text': sub.text, 'start': sub.start, 'end': sub.end}\n",
    "                for sub in subs]\n",
    "id_to_translation_map = {sub_item.index: sub_item.text for sub_item in translated_srt_file}\n",
    "\n",
    "df = pd.DataFrame(initial_data).set_index('id')\n",
    "df['translation'] = df.index.map(id_to_translation_map)\n",
    "\n",
    "# reorder columns\n",
    "df = df[['text', 'translation', 'start', 'end']]\n",
    "\n",
    "with pd.option_context('display.max_colwidth', 200):\n",
    "    display(df)"
   ]
  },
  {
   "cell_type": "markdown",
   "id": "5d548ce9-73f3-421f-b6f0-bd4297cbe1e1",
   "metadata": {},
   "source": [
    "# Create translated SRT file"
   ]
  },
  {
   "cell_type": "code",
   "execution_count": 11,
   "id": "84b3cfc2-d8ad-4462-b558-d28cfb940b64",
   "metadata": {},
   "outputs": [],
   "source": [
    "subtitle_filepath_obj = Path(SUBTITLE_FILEPATH)\n",
    "translated_filepath_obj = subtitle_filepath_obj.with_stem(subtitle_filepath_obj.stem + '_translated')\n",
    "translated_srt_file.save(translated_filepath_obj)"
   ]
  },
  {
   "cell_type": "markdown",
   "id": "98aebab1-6fc9-4c78-b50a-5da935b00cb1",
   "metadata": {},
   "source": [
    "# Result"
   ]
  },
  {
   "cell_type": "code",
   "execution_count": 12,
   "id": "892a036a-c639-4161-8e69-322de3be1646",
   "metadata": {},
   "outputs": [
    {
     "name": "stdout",
     "output_type": "stream",
     "text": [
      "1\n",
      "00:00:00,000 --> 00:00:02,860\n",
      "Oh no, the cyclops is in full hunt!\n",
      "\n",
      "2\n",
      "00:00:03,600 --> 00:00:04,940\n",
      "Careful, don't look!\n",
      "\n",
      "3\n",
      "00:00:05,040 --> 00:00:05,960\n",
      "I'm not looking!\n",
      "\n",
      "4\n",
      "00:00:09,380 --> 00:00:15,860\n",
      "Here, Agent Sora Lela. Requesting immediate reinforcements.\n",
      "\n",
      "5\n",
      "00:00:16,120 --> 00:00:17,940\n",
      "We will be there in five minutes.\n",
      "\n",
      "6\n",
      "00:00:20,540 --> 00:00:24,120\n",
      "Hey, let's hide in the museum! I know it's free on Tuesdays.\n",
      "\n",
      "7\n",
      "00:00:30,000 --> 00:00:30,240\n",
      "It's free on Tuesdays.\n",
      "\n",
      "\n"
     ]
    }
   ],
   "source": [
    "with open(translated_filepath_obj, encoding='utf-8', mode='r') as fh:\n",
    "    result = fh.read()\n",
    "\n",
    "print(result)"
   ]
  }
 ],
 "metadata": {
  "kernelspec": {
   "display_name": "asr_chat_gpt",
   "language": "python",
   "name": "asr_chat_gpt"
  },
  "language_info": {
   "codemirror_mode": {
    "name": "ipython",
    "version": 3
   },
   "file_extension": ".py",
   "mimetype": "text/x-python",
   "name": "python",
   "nbconvert_exporter": "python",
   "pygments_lexer": "ipython3",
   "version": "3.10.12"
  }
 },
 "nbformat": 4,
 "nbformat_minor": 5
}
