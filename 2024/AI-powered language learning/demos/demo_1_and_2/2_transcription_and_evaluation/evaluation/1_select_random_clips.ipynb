{
 "cells": [
  {
   "cell_type": "code",
   "execution_count": 1,
   "id": "1f0b0a99-85f5-4f1a-ac42-59e5dc612bc7",
   "metadata": {},
   "outputs": [],
   "source": [
    "import pandas as pd\n",
    "from pathlib import Path\n",
    "from pangres import upsert\n",
    "from sqlalchemy import create_engine, text"
   ]
  },
  {
   "cell_type": "markdown",
   "id": "f17a06ca-7cc0-434b-b6e8-3518b33157e6",
   "metadata": {},
   "source": [
    "# Config"
   ]
  },
  {
   "cell_type": "code",
   "execution_count": 2,
   "id": "848cbeee-bfa3-44ac-b315-1c7a89bd75f2",
   "metadata": {},
   "outputs": [],
   "source": [
    "NB_SAMPLES = 1000\n",
    "SEED = 123\n",
    "LANGUAGE = 'it'\n",
    "BASE_PATH = Path('it').resolve()\n",
    "DB_PATH = 'cv.sqlite3'\n",
    "engine = create_engine(f'sqlite:///{DB_PATH}')"
   ]
  },
  {
   "cell_type": "markdown",
   "id": "77e33aee-0b7a-40d7-b368-6920c581fd01",
   "metadata": {},
   "source": [
    "# Get table containing clip paths"
   ]
  },
  {
   "cell_type": "code",
   "execution_count": 3,
   "id": "1c236397-5eb1-4d60-9c79-4120a9819d98",
   "metadata": {},
   "outputs": [
    {
     "data": {
      "text/html": [
       "<div>\n",
       "<style scoped>\n",
       "    .dataframe tbody tr th:only-of-type {\n",
       "        vertical-align: middle;\n",
       "    }\n",
       "\n",
       "    .dataframe tbody tr th {\n",
       "        vertical-align: top;\n",
       "    }\n",
       "\n",
       "    .dataframe thead th {\n",
       "        text-align: right;\n",
       "    }\n",
       "</style>\n",
       "<table border=\"1\" class=\"dataframe\">\n",
       "  <thead>\n",
       "    <tr style=\"text-align: right;\">\n",
       "      <th></th>\n",
       "      <th>sentence_id</th>\n",
       "      <th>sentence</th>\n",
       "    </tr>\n",
       "    <tr>\n",
       "      <th>path</th>\n",
       "      <th></th>\n",
       "      <th></th>\n",
       "    </tr>\n",
       "  </thead>\n",
       "  <tbody>\n",
       "    <tr>\n",
       "      <th>common_voice_it_23606167.mp3</th>\n",
       "      <td>14e6f7d4a8eaf63cb2c1e91d712fe636aec623a466d411...</td>\n",
       "      <td>Il libro ha suscitato molte polemiche a causa ...</td>\n",
       "    </tr>\n",
       "    <tr>\n",
       "      <th>common_voice_it_20045040.mp3</th>\n",
       "      <td>0743b8daf1ffe9887c5ba462b5cd81a35f679ea0c2e2e3...</td>\n",
       "      <td>Fin dall'inizio la sede episcopale è stata imm...</td>\n",
       "    </tr>\n",
       "    <tr>\n",
       "      <th>common_voice_it_26970935.mp3</th>\n",
       "      <td>302c15d1ad4f39b8a961e3d2cee6732ed6dbf2c5af0730...</td>\n",
       "      <td>Fu il fondatore di molti chiostri, ospedali e ...</td>\n",
       "    </tr>\n",
       "    <tr>\n",
       "      <th>common_voice_it_17544185.mp3</th>\n",
       "      <td>9cb2b99c1a6d21b8c4280f85ae051b8532401392e7b3f1...</td>\n",
       "      <td>Il vuoto assoluto?</td>\n",
       "    </tr>\n",
       "    <tr>\n",
       "      <th>common_voice_it_20042813.mp3</th>\n",
       "      <td>0734e569c8853e509186ad2e91c511d46d9283df8dd715...</td>\n",
       "      <td>Dopo alcuni anni, egli decise di tornare in In...</td>\n",
       "    </tr>\n",
       "  </tbody>\n",
       "</table>\n",
       "</div>"
      ],
      "text/plain": [
       "                                                                    sentence_id  \\\n",
       "path                                                                              \n",
       "common_voice_it_23606167.mp3  14e6f7d4a8eaf63cb2c1e91d712fe636aec623a466d411...   \n",
       "common_voice_it_20045040.mp3  0743b8daf1ffe9887c5ba462b5cd81a35f679ea0c2e2e3...   \n",
       "common_voice_it_26970935.mp3  302c15d1ad4f39b8a961e3d2cee6732ed6dbf2c5af0730...   \n",
       "common_voice_it_17544185.mp3  9cb2b99c1a6d21b8c4280f85ae051b8532401392e7b3f1...   \n",
       "common_voice_it_20042813.mp3  0734e569c8853e509186ad2e91c511d46d9283df8dd715...   \n",
       "\n",
       "                                                                       sentence  \n",
       "path                                                                             \n",
       "common_voice_it_23606167.mp3  Il libro ha suscitato molte polemiche a causa ...  \n",
       "common_voice_it_20045040.mp3  Fin dall'inizio la sede episcopale è stata imm...  \n",
       "common_voice_it_26970935.mp3  Fu il fondatore di molti chiostri, ospedali e ...  \n",
       "common_voice_it_17544185.mp3                                 Il vuoto assoluto?  \n",
       "common_voice_it_20042813.mp3  Dopo alcuni anni, egli decise di tornare in In...  "
      ]
     },
     "execution_count": 3,
     "metadata": {},
     "output_type": "execute_result"
    }
   ],
   "source": [
    "df_commons = (pd.read_csv(BASE_PATH / 'validated.tsv', sep='\\t', usecols=['path', 'sentence_id', 'sentence'])\n",
    "              .convert_dtypes())\n",
    "assert df_commons['path'].is_unique\n",
    "df_commons.set_index('path', inplace=True)\n",
    "df_commons.head()"
   ]
  },
  {
   "cell_type": "markdown",
   "id": "a67cb301-ed4b-428d-952f-9b3c84e1582f",
   "metadata": {},
   "source": [
    "# Get the paths of `NB_SAMPLES` clips"
   ]
  },
  {
   "cell_type": "code",
   "execution_count": 4,
   "id": "98251b30-e508-48fe-9d4d-d41d39a14790",
   "metadata": {},
   "outputs": [
    {
     "data": {
      "text/html": [
       "<div>\n",
       "<style scoped>\n",
       "    .dataframe tbody tr th:only-of-type {\n",
       "        vertical-align: middle;\n",
       "    }\n",
       "\n",
       "    .dataframe tbody tr th {\n",
       "        vertical-align: top;\n",
       "    }\n",
       "\n",
       "    .dataframe thead th {\n",
       "        text-align: right;\n",
       "    }\n",
       "</style>\n",
       "<table border=\"1\" class=\"dataframe\">\n",
       "  <thead>\n",
       "    <tr style=\"text-align: right;\">\n",
       "      <th></th>\n",
       "      <th>sentence_id</th>\n",
       "      <th>sentence</th>\n",
       "    </tr>\n",
       "    <tr>\n",
       "      <th>path</th>\n",
       "      <th></th>\n",
       "      <th></th>\n",
       "    </tr>\n",
       "  </thead>\n",
       "  <tbody>\n",
       "    <tr>\n",
       "      <th>common_voice_it_32671878.mp3</th>\n",
       "      <td>34d62b82cce0334fc156e6754e9320e8b4d6d09152eb5c...</td>\n",
       "      <td>Beth accetta.</td>\n",
       "    </tr>\n",
       "    <tr>\n",
       "      <th>common_voice_it_19983792.mp3</th>\n",
       "      <td>0234ccc4d8569b1d653055cb5884924d53b6b13692175f...</td>\n",
       "      <td>Il pezzo ha avuto moltissimo successo nel mondo.</td>\n",
       "    </tr>\n",
       "    <tr>\n",
       "      <th>common_voice_it_23989089.mp3</th>\n",
       "      <td>190f431e0c7145d70702b4e7b8e582dbfb8adc5adb5edc...</td>\n",
       "      <td>La camera funebre ha volta piatta con i lati r...</td>\n",
       "    </tr>\n",
       "    <tr>\n",
       "      <th>common_voice_it_21262721.mp3</th>\n",
       "      <td>1075be9d8faa8faed772694349f4f432b4593f5f5c70da...</td>\n",
       "      <td>Dopo questo album la band si sciolse.</td>\n",
       "    </tr>\n",
       "    <tr>\n",
       "      <th>common_voice_it_20003259.mp3</th>\n",
       "      <td>04468068bfee66d8f8075cc871fc2ed5653485a33d56da...</td>\n",
       "      <td>Egli introdusse un nuovo sistema di scommesse ...</td>\n",
       "    </tr>\n",
       "  </tbody>\n",
       "</table>\n",
       "</div>"
      ],
      "text/plain": [
       "                                                                    sentence_id  \\\n",
       "path                                                                              \n",
       "common_voice_it_32671878.mp3  34d62b82cce0334fc156e6754e9320e8b4d6d09152eb5c...   \n",
       "common_voice_it_19983792.mp3  0234ccc4d8569b1d653055cb5884924d53b6b13692175f...   \n",
       "common_voice_it_23989089.mp3  190f431e0c7145d70702b4e7b8e582dbfb8adc5adb5edc...   \n",
       "common_voice_it_21262721.mp3  1075be9d8faa8faed772694349f4f432b4593f5f5c70da...   \n",
       "common_voice_it_20003259.mp3  04468068bfee66d8f8075cc871fc2ed5653485a33d56da...   \n",
       "\n",
       "                                                                       sentence  \n",
       "path                                                                             \n",
       "common_voice_it_32671878.mp3                                      Beth accetta.  \n",
       "common_voice_it_19983792.mp3   Il pezzo ha avuto moltissimo successo nel mondo.  \n",
       "common_voice_it_23989089.mp3  La camera funebre ha volta piatta con i lati r...  \n",
       "common_voice_it_21262721.mp3              Dopo questo album la band si sciolse.  \n",
       "common_voice_it_20003259.mp3  Egli introdusse un nuovo sistema di scommesse ...  "
      ]
     },
     "execution_count": 4,
     "metadata": {},
     "output_type": "execute_result"
    }
   ],
   "source": [
    "nb_clips = len(df_commons)\n",
    "if nb_clips < NB_SAMPLES:\n",
    "    logger.warning(f'NB_SAMPLES ({NB_SAMPLES}) > number of clips ({nb_clips}) | We will use all clips instead')\n",
    "    NB_SAMPLES = nb_clips\n",
    "\n",
    "df_commons_sample = df_commons.sample(NB_SAMPLES, random_state=SEED)\n",
    "df_commons_sample.head()"
   ]
  },
  {
   "cell_type": "markdown",
   "id": "c8ee169d-ab53-4620-8ba3-abeadc2c352d",
   "metadata": {},
   "source": [
    "# Save"
   ]
  },
  {
   "cell_type": "code",
   "execution_count": 5,
   "id": "9e6d7ef5-0d19-4545-84e4-4f091c35785b",
   "metadata": {},
   "outputs": [],
   "source": [
    "table_name = f'samples_{LANGUAGE}'\n",
    "\n",
    "with engine.connect() as connection:\n",
    "    connection.execute(text(f'DROP TABLE IF EXISTS {table_name};'))\n",
    "\n",
    "upsert(con=engine, df=df_commons_sample,\n",
    "       table_name=table_name, if_row_exists='update')"
   ]
  }
 ],
 "metadata": {
  "kernelspec": {
   "display_name": "asr",
   "language": "python",
   "name": "asr"
  },
  "language_info": {
   "codemirror_mode": {
    "name": "ipython",
    "version": 3
   },
   "file_extension": ".py",
   "mimetype": "text/x-python",
   "name": "python",
   "nbconvert_exporter": "python",
   "pygments_lexer": "ipython3",
   "version": "3.10.12"
  }
 },
 "nbformat": 4,
 "nbformat_minor": 5
}
