{
 "cells": [
  {
   "cell_type": "code",
   "execution_count": 1,
   "id": "ca78a15f-210b-4638-aaaa-9b9a84da1418",
   "metadata": {
    "tags": []
   },
   "outputs": [],
   "source": [
    "import pandas as pd\n",
    "from faster_whisper import WhisperModel\n",
    "from faster_whisper.transcribe import Segment, Word\n",
    "from pathlib import Path\n",
    "from tqdm import tqdm\n",
    "from typing import Any\n",
    "from whisper.utils import get_writer"
   ]
  },
  {
   "cell_type": "markdown",
   "id": "06c55889-23b7-4120-ae17-b9b04bfcbe80",
   "metadata": {},
   "source": [
    "# Get an example video"
   ]
  },
  {
   "cell_type": "code",
   "execution_count": 2,
   "id": "0295be09-be5e-4cb3-a357-3fc97631f627",
   "metadata": {},
   "outputs": [],
   "source": [
    "# I did not commit this file for copyright reasons, feel free to use your own files to test it\n",
    "MEDIA_FILEPATH = 'example.mkv'\n",
    "LANGUAGE = 'it'"
   ]
  },
  {
   "cell_type": "markdown",
   "id": "aa613a69-f9e8-43d3-9095-244338e79466",
   "metadata": {},
   "source": [
    "# Initalizing the Whisper model\n",
    "\n",
    "Notes on parameter:\n",
    "\n",
    "* `device`: use `'cuda'` if you can (requires NVIDIA graphic gard and CUDA installation)! Transcription on `'cpu'` is much slower!\n",
    "* `compute_type`:\n",
    "    * `float16`: the default when CUDA is enabled because GPUs can handle float16 operations more efficiently, leading to faster inference times and lower memory usage\n",
    "    * `float32`: the default when using the CPU. CPU generally perform better with higher precision data types, and the precision benefits outweigh the performance and memory considerations"
   ]
  },
  {
   "cell_type": "code",
   "execution_count": 3,
   "id": "ee7fe1c5-c448-4ee6-86b2-d8c265985148",
   "metadata": {},
   "outputs": [],
   "source": [
    "model = WhisperModel(\n",
    "    model_size_or_path='large-v3',\n",
    "    device='cpu',  # default: \"auto\"\n",
    "    compute_type=\"float32\"  # default: \"default\" (depends on `device`)\n",
    ")"
   ]
  },
  {
   "cell_type": "markdown",
   "id": "d94fbad0-f2d0-4641-ba2b-dde56983f8f3",
   "metadata": {},
   "source": [
    "# Prepare generator of transcription segments from `faster_whisper`\n",
    "\n",
    "## Difference with Whipser\n",
    "\n",
    "We get a generator and not the transcription for the whole file immediately\n",
    "\n",
    "## Extra info for some important parameters\n",
    "\n",
    "* `word_timestamps`: if you do not set this to True, you will not be able to generate subtitles, since this adds timings\n",
    "* `task`: `'transcribe'` (default) or `'translate'`! But each task generates different timings...\n",
    "* `initial_prompt`: you can provide additional context to help the transcription e.g. character names, names of places, invented words etc.\n",
    "* `condition_on_previous_text`: if True, will use previous transcription results as context. May lead to more hallucination loops!"
   ]
  },
  {
   "cell_type": "code",
   "execution_count": 4,
   "id": "2b1e212b-de0e-4c33-ac32-701413584f02",
   "metadata": {},
   "outputs": [
    {
     "name": "stdout",
     "output_type": "stream",
     "text": [
      "The media is 30.27 seconds long\n"
     ]
    }
   ],
   "source": [
    "segments_gen, info = model.transcribe(\n",
    "    audio=MEDIA_FILEPATH,\n",
    "    word_timestamps=True,\n",
    "    language=LANGUAGE,\n",
    "    task='transcribe',\n",
    "    initial_prompt=None,\n",
    "    condition_on_previous_text=True\n",
    ")\n",
    "media_duration = round(info.duration, 2)\n",
    "\n",
    "print(f'The media is {media_duration} seconds long')"
   ]
  },
  {
   "cell_type": "markdown",
   "id": "362f344e-3d51-4436-aed0-2b399b4c9171",
   "metadata": {},
   "source": [
    "# Iterate over segments\n",
    "\n",
    "I added a little progress bar using `tqdm` 🐢"
   ]
  },
  {
   "cell_type": "code",
   "execution_count": 5,
   "id": "f254c96b-5441-477d-a348-e061e6abe1fc",
   "metadata": {
    "tags": []
   },
   "outputs": [
    {
     "name": "stderr",
     "output_type": "stream",
     "text": [
      "100%|████████████████████████▉| 30.24/30.27 [00:49<00:00,  1.65s/ audio seconds]\n"
     ]
    }
   ],
   "source": [
    "# prepare generator iteration\n",
    "current_time = 0\n",
    "segments_data = []\n",
    "\n",
    "# get transcription from segments\n",
    "with tqdm(total=media_duration, unit=' audio seconds') as progress_bar:\n",
    "    for segment in segments_gen:\n",
    "\n",
    "        segments_data.append(segment)\n",
    "\n",
    "        # show progress and set time for next loop\n",
    "        progress_bar.update(segment.end - current_time)\n",
    "        current_time = segment.end"
   ]
  },
  {
   "cell_type": "markdown",
   "id": "256773ac-cbb7-44ef-bd4f-67783c07f26d",
   "metadata": {},
   "source": [
    "# Convert output of `faster_whisper` to a format compatible with `Whisper`\n",
    "\n",
    "`faster_whisper` uses named tuples whereas `Whisper` uses dictionaries.\n",
    "\n",
    "We need to do that otherwise we will not be able to generate subtitles."
   ]
  },
  {
   "cell_type": "code",
   "execution_count": 6,
   "id": "6bd68991-7ee0-47d9-ae30-964464364ff0",
   "metadata": {},
   "outputs": [],
   "source": [
    "def faster_whisper_segment_to_openapi_whisper_segment(segment: Segment) -> dict[str, Any]:\n",
    "    \"\"\"\n",
    "    Converts faster-whisper segments to OpenAI segments.\n",
    "    This is useful for using whisper utilities such as writing subtitles.\n",
    "    \"\"\"\n",
    "    # Note: `_asdict` is not a private method per say, it is a documented method of named tuples\n",
    "    # and `FasterWhisperSegment` is one. Same goes for `FasterWhisperWord`.\n",
    "    segment_dict = segment._asdict()\n",
    "    words: list[Word] | None = segment_dict['words']\n",
    "    if words is not None:\n",
    "        words_parsed = [word._asdict() for word in words]\n",
    "    else:\n",
    "        words_parsed = None\n",
    "    segment_dict['words'] = words_parsed\n",
    "    return segment_dict"
   ]
  },
  {
   "cell_type": "code",
   "execution_count": 7,
   "id": "08be5ad6-c393-4e73-83dc-3eb35cd5b09a",
   "metadata": {},
   "outputs": [
    {
     "data": {
      "text/plain": [
       "Segment(id=1, seek=3000, start=0.0, end=2.86, text=' Oh no, la ciclope è in piena caccia!', tokens=[50390, 876, 572, 11, 635, 27464, 75, 1114, 4873, 294, 26274, 64, 269, 326, 2755, 0, 50513], temperature=0.0, avg_logprob=-0.16795300497956897, compression_ratio=1.3372093023255813, no_speech_prob=0.016745049506425858, words=[Word(start=0.0, end=0.92, word=' Oh', probability=0.9270329475402832), Word(start=0.92, end=1.3, word=' no,', probability=0.8142931461334229), Word(start=1.44, end=1.56, word=' la', probability=0.9834323525428772), Word(start=1.56, end=1.98, word=' ciclope', probability=0.8365635871887207), Word(start=1.98, end=2.12, word=' è', probability=0.7243817448616028), Word(start=2.12, end=2.14, word=' in', probability=0.999559223651886), Word(start=2.14, end=2.5, word=' piena', probability=0.9997018575668335), Word(start=2.5, end=2.86, word=' caccia!', probability=0.9998706777890524)])"
      ]
     },
     "execution_count": 7,
     "metadata": {},
     "output_type": "execute_result"
    }
   ],
   "source": [
    "# example of `faster-whisper`'s output\n",
    "segments_data[0]"
   ]
  },
  {
   "cell_type": "code",
   "execution_count": 8,
   "id": "1d04bc64-c527-4ebd-901d-610f5df3230d",
   "metadata": {},
   "outputs": [
    {
     "name": "stdout",
     "output_type": "stream",
     "text": [
      "{'id': 1, 'seek': 3000, 'start': 0.0, 'end': 2.86, 'text': ' Oh no, la ciclope è in piena caccia!', 'tokens': [50390, 876, 572, 11, 635, 27464, 75, 1114, 4873, 294, 26274, 64, 269, 326, 2755, 0, 50513], 'temperature': 0.0, 'avg_logprob': -0.16795300497956897, 'compression_ratio': 1.3372093023255813, 'no_speech_prob': 0.016745049506425858, 'words': [{'start': 0.0, 'end': 0.92, 'word': ' Oh', 'probability': 0.9270329475402832}, {'start': 0.92, 'end': 1.3, 'word': ' no,', 'probability': 0.8142931461334229}, {'start': 1.44, 'end': 1.56, 'word': ' la', 'probability': 0.9834323525428772}, {'start': 1.56, 'end': 1.98, 'word': ' ciclope', 'probability': 0.8365635871887207}, {'start': 1.98, 'end': 2.12, 'word': ' è', 'probability': 0.7243817448616028}, {'start': 2.12, 'end': 2.14, 'word': ' in', 'probability': 0.999559223651886}, {'start': 2.14, 'end': 2.5, 'word': ' piena', 'probability': 0.9997018575668335}, {'start': 2.5, 'end': 2.86, 'word': ' caccia!', 'probability': 0.9998706777890524}]}\n"
     ]
    }
   ],
   "source": [
    "# convert to Whisper format\n",
    "segments_data_converted = [faster_whisper_segment_to_openapi_whisper_segment(segment=segment)\n",
    "                           for segment in segments_data]\n",
    "# example of what Whisper would output:\n",
    "print(segments_data_converted[0])"
   ]
  },
  {
   "cell_type": "markdown",
   "id": "a1b71c9d-01ed-4921-a577-27f82f40cc8f",
   "metadata": {},
   "source": [
    "# Let's have a closer look at the data using `pandas`"
   ]
  },
  {
   "cell_type": "code",
   "execution_count": 9,
   "id": "9c0207a9-8e63-4b31-9c2a-dca6fefaea71",
   "metadata": {},
   "outputs": [
    {
     "data": {
      "text/html": [
       "<div>\n",
       "<style scoped>\n",
       "    .dataframe tbody tr th:only-of-type {\n",
       "        vertical-align: middle;\n",
       "    }\n",
       "\n",
       "    .dataframe tbody tr th {\n",
       "        vertical-align: top;\n",
       "    }\n",
       "\n",
       "    .dataframe thead th {\n",
       "        text-align: right;\n",
       "    }\n",
       "</style>\n",
       "<table border=\"1\" class=\"dataframe\">\n",
       "  <thead>\n",
       "    <tr style=\"text-align: right;\">\n",
       "      <th></th>\n",
       "      <th>seek</th>\n",
       "      <th>start</th>\n",
       "      <th>end</th>\n",
       "      <th>text</th>\n",
       "      <th>tokens</th>\n",
       "      <th>temperature</th>\n",
       "      <th>avg_logprob</th>\n",
       "      <th>compression_ratio</th>\n",
       "      <th>no_speech_prob</th>\n",
       "      <th>words</th>\n",
       "    </tr>\n",
       "    <tr>\n",
       "      <th>id</th>\n",
       "      <th></th>\n",
       "      <th></th>\n",
       "      <th></th>\n",
       "      <th></th>\n",
       "      <th></th>\n",
       "      <th></th>\n",
       "      <th></th>\n",
       "      <th></th>\n",
       "      <th></th>\n",
       "      <th></th>\n",
       "    </tr>\n",
       "  </thead>\n",
       "  <tbody>\n",
       "    <tr>\n",
       "      <th>1</th>\n",
       "      <td>3000</td>\n",
       "      <td>0.00</td>\n",
       "      <td>2.86</td>\n",
       "      <td>Oh no, la ciclope è in piena caccia!</td>\n",
       "      <td>[50390, 876, 572, 11, 635, 27464, 75, 1114, 4873, 294, 26274, 64, 269, 326, 2755, 0, 50513]</td>\n",
       "      <td>0.0</td>\n",
       "      <td>-0.167953</td>\n",
       "      <td>1.337209</td>\n",
       "      <td>0.016745</td>\n",
       "      <td>[{'start': 0.0, 'end': 0.92, 'word': ' Oh', 'probability': 0.9270329475402832}, {'start': 0.92, 'end': 1.3, 'word': ' no,', 'probability': 0.8142931461334229}, {'start': 1.44, 'end': 1.56, 'word':...</td>\n",
       "    </tr>\n",
       "    <tr>\n",
       "      <th>2</th>\n",
       "      <td>3000</td>\n",
       "      <td>3.60</td>\n",
       "      <td>4.94</td>\n",
       "      <td>Attento, non guardare!</td>\n",
       "      <td>[50556, 7298, 15467, 11, 2107, 6290, 543, 0, 50617]</td>\n",
       "      <td>0.0</td>\n",
       "      <td>-0.167953</td>\n",
       "      <td>1.337209</td>\n",
       "      <td>0.016745</td>\n",
       "      <td>[{'start': 3.6000000000000005, 'end': 4.28, 'word': ' Attento,', 'probability': 0.9829465746879578}, {'start': 4.28, 'end': 4.42, 'word': ' non', 'probability': 0.999756395816803}, {'start': 4.42,...</td>\n",
       "    </tr>\n",
       "    <tr>\n",
       "      <th>3</th>\n",
       "      <td>3000</td>\n",
       "      <td>5.04</td>\n",
       "      <td>5.96</td>\n",
       "      <td>Non sto mica guardando!</td>\n",
       "      <td>[50619, 8774, 22784, 32483, 6290, 1806, 0, 50669]</td>\n",
       "      <td>0.0</td>\n",
       "      <td>-0.167953</td>\n",
       "      <td>1.337209</td>\n",
       "      <td>0.016745</td>\n",
       "      <td>[{'start': 5.04, 'end': 5.08, 'word': ' Non', 'probability': 0.6705727577209473}, {'start': 5.08, 'end': 5.22, 'word': ' sto', 'probability': 0.9813330769538879}, {'start': 5.22, 'end': 5.4, 'word...</td>\n",
       "    </tr>\n",
       "    <tr>\n",
       "      <th>4</th>\n",
       "      <td>3000</td>\n",
       "      <td>9.38</td>\n",
       "      <td>15.86</td>\n",
       "      <td>Qui, agente Sora Lela. Chiedo immediati rinforzi.</td>\n",
       "      <td>[50994, 27361, 11, 623, 1576, 46639, 441, 4053, 13, 761, 36035, 3640, 6908, 367, 259, 2994, 3992, 13, 51165]</td>\n",
       "      <td>0.0</td>\n",
       "      <td>-0.167953</td>\n",
       "      <td>1.337209</td>\n",
       "      <td>0.016745</td>\n",
       "      <td>[{'start': 9.38, 'end': 10.06, 'word': ' Qui,', 'probability': 0.9696592092514038}, {'start': 13.14, 'end': 13.64, 'word': ' agente', 'probability': 0.9499600827693939}, {'start': 13.64, 'end': 13...</td>\n",
       "    </tr>\n",
       "    <tr>\n",
       "      <th>5</th>\n",
       "      <td>3000</td>\n",
       "      <td>16.12</td>\n",
       "      <td>17.94</td>\n",
       "      <td>Saremo lì tra cinque minuti.</td>\n",
       "      <td>[51190, 318, 543, 3280, 287, 4749, 944, 6539, 1077, 13951, 72, 13, 51267]</td>\n",
       "      <td>0.0</td>\n",
       "      <td>-0.167953</td>\n",
       "      <td>1.337209</td>\n",
       "      <td>0.016745</td>\n",
       "      <td>[{'start': 16.12, 'end': 16.8, 'word': ' Saremo', 'probability': 0.9510459899902344}, {'start': 16.8, 'end': 16.98, 'word': ' lì', 'probability': 0.9996640980243683}, {'start': 16.98, 'end': 17.08...</td>\n",
       "    </tr>\n",
       "    <tr>\n",
       "      <th>6</th>\n",
       "      <td>3000</td>\n",
       "      <td>20.54</td>\n",
       "      <td>24.12</td>\n",
       "      <td>Ehi, nascondiamoci nel museo! So che il martedì si entra gratis.</td>\n",
       "      <td>[51394, 462, 4954, 11, 297, 4806, 684, 7415, 537, 15373, 39138, 78, 0, 407, 947, 1930, 12396, 292, 4749, 1511, 22284, 10158, 271, 13, 51581]</td>\n",
       "      <td>0.0</td>\n",
       "      <td>-0.167953</td>\n",
       "      <td>1.337209</td>\n",
       "      <td>0.016745</td>\n",
       "      <td>[{'start': 20.54, 'end': 21.22, 'word': ' Ehi,', 'probability': 0.7486812174320221}, {'start': 21.22, 'end': 21.9, 'word': ' nascondiamoci', 'probability': 0.8889192461967468}, {'start': 21.9, 'en...</td>\n",
       "    </tr>\n",
       "    <tr>\n",
       "      <th>7</th>\n",
       "      <td>3026</td>\n",
       "      <td>30.00</td>\n",
       "      <td>30.24</td>\n",
       "      <td>Il martedì si entra gratis.</td>\n",
       "      <td>[50365, 4416, 12396, 292, 4749, 1511, 22284, 10158, 271, 13, 51864]</td>\n",
       "      <td>0.0</td>\n",
       "      <td>-0.350285</td>\n",
       "      <td>0.777778</td>\n",
       "      <td>0.277545</td>\n",
       "      <td>[{'start': 30.0, 'end': 30.24, 'word': ' Il', 'probability': 0.0010006525553762913}, {'start': 30.24, 'end': 30.24, 'word': ' martedì', 'probability': 0.41527816581947263}, {'start': 30.24, 'end':...</td>\n",
       "    </tr>\n",
       "  </tbody>\n",
       "</table>\n",
       "</div>"
      ],
      "text/plain": [
       "    seek  start    end  \\\n",
       "id                       \n",
       "1   3000   0.00   2.86   \n",
       "2   3000   3.60   4.94   \n",
       "3   3000   5.04   5.96   \n",
       "4   3000   9.38  15.86   \n",
       "5   3000  16.12  17.94   \n",
       "6   3000  20.54  24.12   \n",
       "7   3026  30.00  30.24   \n",
       "\n",
       "                                                                 text  \\\n",
       "id                                                                      \n",
       "1                                Oh no, la ciclope è in piena caccia!   \n",
       "2                                              Attento, non guardare!   \n",
       "3                                             Non sto mica guardando!   \n",
       "4                   Qui, agente Sora Lela. Chiedo immediati rinforzi.   \n",
       "5                                        Saremo lì tra cinque minuti.   \n",
       "6    Ehi, nascondiamoci nel museo! So che il martedì si entra gratis.   \n",
       "7                                         Il martedì si entra gratis.   \n",
       "\n",
       "                                                                                                                                          tokens  \\\n",
       "id                                                                                                                                                 \n",
       "1                                                    [50390, 876, 572, 11, 635, 27464, 75, 1114, 4873, 294, 26274, 64, 269, 326, 2755, 0, 50513]   \n",
       "2                                                                                            [50556, 7298, 15467, 11, 2107, 6290, 543, 0, 50617]   \n",
       "3                                                                                              [50619, 8774, 22784, 32483, 6290, 1806, 0, 50669]   \n",
       "4                                   [50994, 27361, 11, 623, 1576, 46639, 441, 4053, 13, 761, 36035, 3640, 6908, 367, 259, 2994, 3992, 13, 51165]   \n",
       "5                                                                      [51190, 318, 543, 3280, 287, 4749, 944, 6539, 1077, 13951, 72, 13, 51267]   \n",
       "6   [51394, 462, 4954, 11, 297, 4806, 684, 7415, 537, 15373, 39138, 78, 0, 407, 947, 1930, 12396, 292, 4749, 1511, 22284, 10158, 271, 13, 51581]   \n",
       "7                                                                            [50365, 4416, 12396, 292, 4749, 1511, 22284, 10158, 271, 13, 51864]   \n",
       "\n",
       "    temperature  avg_logprob  compression_ratio  no_speech_prob  \\\n",
       "id                                                                \n",
       "1           0.0    -0.167953           1.337209        0.016745   \n",
       "2           0.0    -0.167953           1.337209        0.016745   \n",
       "3           0.0    -0.167953           1.337209        0.016745   \n",
       "4           0.0    -0.167953           1.337209        0.016745   \n",
       "5           0.0    -0.167953           1.337209        0.016745   \n",
       "6           0.0    -0.167953           1.337209        0.016745   \n",
       "7           0.0    -0.350285           0.777778        0.277545   \n",
       "\n",
       "                                                                                                                                                                                                      words  \n",
       "id                                                                                                                                                                                                           \n",
       "1   [{'start': 0.0, 'end': 0.92, 'word': ' Oh', 'probability': 0.9270329475402832}, {'start': 0.92, 'end': 1.3, 'word': ' no,', 'probability': 0.8142931461334229}, {'start': 1.44, 'end': 1.56, 'word':...  \n",
       "2   [{'start': 3.6000000000000005, 'end': 4.28, 'word': ' Attento,', 'probability': 0.9829465746879578}, {'start': 4.28, 'end': 4.42, 'word': ' non', 'probability': 0.999756395816803}, {'start': 4.42,...  \n",
       "3   [{'start': 5.04, 'end': 5.08, 'word': ' Non', 'probability': 0.6705727577209473}, {'start': 5.08, 'end': 5.22, 'word': ' sto', 'probability': 0.9813330769538879}, {'start': 5.22, 'end': 5.4, 'word...  \n",
       "4   [{'start': 9.38, 'end': 10.06, 'word': ' Qui,', 'probability': 0.9696592092514038}, {'start': 13.14, 'end': 13.64, 'word': ' agente', 'probability': 0.9499600827693939}, {'start': 13.64, 'end': 13...  \n",
       "5   [{'start': 16.12, 'end': 16.8, 'word': ' Saremo', 'probability': 0.9510459899902344}, {'start': 16.8, 'end': 16.98, 'word': ' lì', 'probability': 0.9996640980243683}, {'start': 16.98, 'end': 17.08...  \n",
       "6   [{'start': 20.54, 'end': 21.22, 'word': ' Ehi,', 'probability': 0.7486812174320221}, {'start': 21.22, 'end': 21.9, 'word': ' nascondiamoci', 'probability': 0.8889192461967468}, {'start': 21.9, 'en...  \n",
       "7   [{'start': 30.0, 'end': 30.24, 'word': ' Il', 'probability': 0.0010006525553762913}, {'start': 30.24, 'end': 30.24, 'word': ' martedì', 'probability': 0.41527816581947263}, {'start': 30.24, 'end':...  "
      ]
     },
     "metadata": {},
     "output_type": "display_data"
    }
   ],
   "source": [
    "df = pd.DataFrame(segments_data_converted).set_index('id')\n",
    "\n",
    "with pd.option_context('display.max_colwidth', 200):\n",
    "    display(df)"
   ]
  },
  {
   "cell_type": "markdown",
   "id": "80455df3-11cf-42b6-9e8b-a739618bc09e",
   "metadata": {},
   "source": [
    "# Generate subtitles 🤖!"
   ]
  },
  {
   "cell_type": "code",
   "execution_count": 10,
   "id": "be37b67a-2f4f-4c23-bcac-aa17ae169aad",
   "metadata": {},
   "outputs": [],
   "source": [
    "# we have to again imitate what Whisper would expect\n",
    "expected_whisper_structure = {'segments': segments_data_converted}\n",
    "\n",
    "srt_writer = get_writer(output_format='srt', output_dir='.')\n",
    "srt_writer(result=expected_whisper_structure,\n",
    "           audio_path=MEDIA_FILEPATH)"
   ]
  },
  {
   "cell_type": "markdown",
   "id": "5c3fdf3e-de55-4e74-9c19-3da8f9e3ab62",
   "metadata": {},
   "source": [
    "# Result\n",
    "\n",
    "Opening the generated subtitle file"
   ]
  },
  {
   "cell_type": "code",
   "execution_count": 11,
   "id": "36b2421e-8077-4e2f-a2fe-570f630b74c1",
   "metadata": {},
   "outputs": [
    {
     "name": "stdout",
     "output_type": "stream",
     "text": [
      "1\n",
      "00:00:00,000 --> 00:00:02,860\n",
      "Oh no, la ciclope è in piena caccia!\n",
      "\n",
      "2\n",
      "00:00:03,600 --> 00:00:04,940\n",
      "Attento, non guardare!\n",
      "\n",
      "3\n",
      "00:00:05,040 --> 00:00:05,960\n",
      "Non sto mica guardando!\n",
      "\n",
      "4\n",
      "00:00:09,380 --> 00:00:15,860\n",
      "Qui, agente Sora Lela. Chiedo immediati rinforzi.\n",
      "\n",
      "5\n",
      "00:00:16,120 --> 00:00:17,940\n",
      "Saremo lì tra cinque minuti.\n",
      "\n",
      "6\n",
      "00:00:20,540 --> 00:00:24,120\n",
      "Ehi, nascondiamoci nel museo! So che il martedì si entra gratis.\n",
      "\n",
      "7\n",
      "00:00:30,000 --> 00:00:30,240\n",
      "Il martedì si entra gratis.\n",
      "\n",
      "\n"
     ]
    }
   ],
   "source": [
    "with open(Path(MEDIA_FILEPATH).with_suffix('.srt'), encoding='utf-8', mode='r') as fh:\n",
    "    subtitles_text = fh.read()\n",
    "\n",
    "print(subtitles_text)"
   ]
  }
 ],
 "metadata": {
  "kernelspec": {
   "display_name": "asr",
   "language": "python",
   "name": "asr"
  },
  "language_info": {
   "codemirror_mode": {
    "name": "ipython",
    "version": 3
   },
   "file_extension": ".py",
   "mimetype": "text/x-python",
   "name": "python",
   "nbconvert_exporter": "python",
   "pygments_lexer": "ipython3",
   "version": "3.10.12"
  }
 },
 "nbformat": 4,
 "nbformat_minor": 5
}
