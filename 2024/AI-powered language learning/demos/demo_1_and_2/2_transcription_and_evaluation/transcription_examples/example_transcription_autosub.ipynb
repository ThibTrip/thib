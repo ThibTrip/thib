{
 "cells": [
  {
   "cell_type": "markdown",
   "id": "66963560-bfa0-4067-b718-56468b601189",
   "metadata": {},
   "source": [
    "# Generating subtitles with `autosub`\n",
    "\n",
    "Since `autosub` does not have a Python interface, we wil directly use the command line to run it.\n",
    "\n",
    "And we will actually run it via `poetry` since we are in a a `poetry` virtual environment, but you would use `autosub` directly otherwise.\n",
    "\n",
    "## Parameters\n",
    "\n",
    "* `-S`:  Lang code/Lang tag for speech-to-text. Recommend using the Google Cloud Speech (default) reference lang codes\n",
    "* `-i`: input file\n",
    "\n",
    "IMPORTANT: language are provided as `{LANG}-{COUNTRY}` e.g. `it-it`, `uk-ua` (Ukrainian) etc.\n",
    "\n",
    "See also `autosub --help`."
   ]
  },
  {
   "cell_type": "code",
   "execution_count": 1,
   "id": "018f5137-4997-42b2-82cc-c82cef6cabc7",
   "metadata": {},
   "outputs": [],
   "source": [
    "from pathlib import Path"
   ]
  },
  {
   "cell_type": "code",
   "execution_count": 2,
   "id": "60b391ae-a87c-46f7-bbcc-4a5130a82322",
   "metadata": {},
   "outputs": [],
   "source": [
    "# I did not commit this file for copyright reasons, feel free to use your own files to test it\n",
    "FILENAME = 'example.mkv'\n",
    "LANGUAGE = 'it-it'  # make sure to use localized language codes (includes the country code)"
   ]
  },
  {
   "cell_type": "code",
   "execution_count": 3,
   "id": "27d76512-ea43-4fa1-9682-a9c7a756a18c",
   "metadata": {
    "editable": true,
    "slideshow": {
     "slide_type": ""
    },
    "tags": []
   },
   "outputs": [
    {
     "name": "stdout",
     "output_type": "stream",
     "text": [
      "/home/thibaultbetremieux/.cache/pypoetry/virtualenvs/asr-t3PkhDo3-py3.10/lib/python3.10/site-packages/fuzzywuzzy/fuzz.py:11: UserWarning: Using slow pure-python SequenceMatcher. Install python-Levenshtein to remove this warning\n",
      "  warnings.warn('Using slow pure-python SequenceMatcher. Install python-Levenshtein to remove this warning')\n",
      "Translation destination language not provided. Only performing speech recognition.\n",
      "Override \"-of\"/\"--output-files\" due to your args too few.\n",
      "Output source subtitles file only.\n",
      "\n",
      "Convert source file to \"/tmp/tmps4jar9qf.wav\" to detect audio regions.\n",
      "/usr/bin/ffmpeg -hide_banner -y -i \"example.mkv\" -vn -ac 1 -ar 48000 -loglevel error \"/tmp/tmps4jar9qf.wav\"\n",
      "\n",
      "Use ffprobe to check conversion result.\n",
      "/usr/bin/ffprobe \"/tmp/tmps4jar9qf.wav\" -show_format -pretty -loglevel quiet\n",
      "[FORMAT]\n",
      "filename=/tmp/tmps4jar9qf.wav\n",
      "nb_streams=1\n",
      "nb_programs=0\n",
      "format_name=wav\n",
      "format_long_name=WAV / WAVE (Waveform Audio)\n",
      "start_time=N/A\n",
      "duration=0:00:30.267229\n",
      "size=2.771122 Mibyte\n",
      "bit_rate=768.020000 Kbit/s\n",
      "probe_score=99\n",
      "TAG:encoder=Lavf58.76.100\n",
      "[/FORMAT]\n",
      "\n",
      "Conversion completed.\n",
      "Use Auditok to detect speech regions.\n",
      "Auditok detection completed.\n",
      "\"/tmp/tmps4jar9qf.wav\" has been deleted.\n",
      "\n",
      "Converting speech regions to short-term fragments.\n",
      "Converting: \u001b[38;2;0;255;0m100%\u001b[39m |#############################################| Time:  0:00:0000\n",
      "\n",
      "Sending short-term fragments to Google Speech V2 API and getting result.\n",
      "Speech-to-Text: \u001b[38;2;0;255;0m100%\u001b[39m |#########################################| Time:  0:00:0301\n",
      "Speech language subtitles file created at \"/home/thibaultbetremieux/Documents/repos/thib/2024/AI-powered language learning/demos/demo_1_and_2/2_transcription_and_evaluation/transcription_examples/example.it-it.srt\".\n",
      "\n",
      "All work done.\n"
     ]
    }
   ],
   "source": [
    "!poetry run autosub -S {LANGUAGE} -i {FILENAME}"
   ]
  },
  {
   "cell_type": "code",
   "execution_count": 4,
   "id": "5562158f-8954-4266-a0dd-5e1f85876372",
   "metadata": {},
   "outputs": [
    {
     "data": {
      "text/plain": [
       "PosixPath('example.it-it.srt')"
      ]
     },
     "execution_count": 4,
     "metadata": {},
     "output_type": "execute_result"
    }
   ],
   "source": [
    "# get the output file name (note: parameter `-o` to customize the output file name adds a language suffix\n",
    "# anyways, so that does not really help us...)\n",
    "FILENAME_OBJ = Path(FILENAME)\n",
    "OUTPUT_FILENAME = FILENAME_OBJ.with_stem(FILENAME_OBJ.stem + '.' + LANGUAGE).with_suffix('.srt')\n",
    "OUTPUT_FILENAME"
   ]
  },
  {
   "cell_type": "code",
   "execution_count": 5,
   "id": "cdbb01f4-efeb-49b3-ba36-843858d0cfed",
   "metadata": {},
   "outputs": [
    {
     "name": "stdout",
     "output_type": "stream",
     "text": [
      "1\n",
      "00:00:00,880 --> 00:00:03,190\n",
      "\n",
      "\n",
      "2\n",
      "00:00:03,820 --> 00:00:07,170\n",
      "\n",
      "\n",
      "3\n",
      "00:00:10,710 --> 00:00:11,320\n",
      "\n",
      "\n",
      "4\n",
      "00:00:12,490 --> 00:00:16,420\n",
      "Qui agente Sora Lella chiedo immediatamente i rinforzi\n",
      "\n",
      "5\n",
      "00:00:16,510 --> 00:00:26,500\n",
      "\n",
      "\n",
      "6\n",
      "00:00:26,510 --> 00:00:28,550\n",
      "\n",
      "\n"
     ]
    }
   ],
   "source": [
    "!cat {OUTPUT_FILENAME}"
   ]
  }
 ],
 "metadata": {
  "kernelspec": {
   "display_name": "asr",
   "language": "python",
   "name": "asr"
  },
  "language_info": {
   "codemirror_mode": {
    "name": "ipython",
    "version": 3
   },
   "file_extension": ".py",
   "mimetype": "text/x-python",
   "name": "python",
   "nbconvert_exporter": "python",
   "pygments_lexer": "ipython3",
   "version": "3.10.12"
  }
 },
 "nbformat": 4,
 "nbformat_minor": 5
}
